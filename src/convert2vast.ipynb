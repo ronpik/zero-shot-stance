{
 "cells": [
  {
   "cell_type": "code",
   "execution_count": 1,
   "metadata": {
    "collapsed": true
   },
   "outputs": [],
   "source": [
    "import os\n",
    "\n",
    "import pandas as pd\n",
    "\n",
    "from tqdm.notebook import tqdm\n",
    "\n",
    "from topic_extraction import get_relevant_nps_from_text, parse_text, get_tokens_with_stopwords"
   ]
  },
  {
   "cell_type": "code",
   "execution_count": 5,
   "outputs": [],
   "source": [
    "# base_dir = \"/Users/ronpick/studies/stance/alternative/createdebate_released\"\n",
    "base_dir = \"../data/fourforums\""
   ],
   "metadata": {
    "collapsed": false,
    "pycharm": {
     "name": "#%%\n"
    }
   }
  },
  {
   "cell_type": "code",
   "execution_count": 6,
   "outputs": [
    {
     "data": {
      "text/plain": "      discussion_id  post_id  author_id        creation_date  parent_post_id  \\\n0               878     3557      27083  2008-05-07 23:06:11           878.0   \n1               878     3563       5901  2008-05-08 01:25:25           878.0   \n2               878     3623      11010  2008-05-08 15:03:14           878.0   \n3               878     3627      27083  2008-05-08 15:21:42          3623.0   \n4               878     3632       8705  2008-05-08 15:35:54           878.0   \n...             ...      ...        ...                  ...             ...   \n3046          56718   558884       1488  2014-05-09 05:30:18         56718.0   \n3047          56718   558914       2827  2014-05-09 13:40:52        558884.0   \n3048          56718   558915       2827  2014-05-09 13:41:09         56718.0   \n3049          56718   558927       2496  2014-05-09 16:26:02        558914.0   \n3050          56718   558964      17093  2014-05-10 01:37:37        558884.0   \n\n      parent_missing  text_id  points  discussion_stance_id is_rebuttal  \\\n0                  0   513135      -3                   0.0         NaN   \n1                  0   513160      -8                   0.0         NaN   \n2                  0   513211      11                   1.0         NaN   \n3                  0   513212       8                   0.0    disputed   \n4                  0   513276       4                   1.0         NaN   \n...              ...      ...     ...                   ...         ...   \n3046               0   771300       1                   0.0         NaN   \n3047               0   771301       1                   1.0    disputed   \n3048               0   771304       1                   1.0         NaN   \n3049               0   771302       1                   1.0   supported   \n3050               0   771303       1                   1.0    disputed   \n\n      root_discussion_id  topic                              title  \n0                    878      9  Should guns be banned in America?  \n1                    878      9  Should guns be banned in America?  \n2                    878      9  Should guns be banned in America?  \n3                    878      9  Should guns be banned in America?  \n4                    878      9  Should guns be banned in America?  \n...                  ...    ...                                ...  \n3046               56718      9                        gun control  \n3047               56718      9                        gun control  \n3048               56718      9                        gun control  \n3049               56718      9                        gun control  \n3050               56718      9                        gun control  \n\n[3051 rows x 13 columns]",
      "text/html": "<div>\n<style scoped>\n    .dataframe tbody tr th:only-of-type {\n        vertical-align: middle;\n    }\n\n    .dataframe tbody tr th {\n        vertical-align: top;\n    }\n\n    .dataframe thead th {\n        text-align: right;\n    }\n</style>\n<table border=\"1\" class=\"dataframe\">\n  <thead>\n    <tr style=\"text-align: right;\">\n      <th></th>\n      <th>discussion_id</th>\n      <th>post_id</th>\n      <th>author_id</th>\n      <th>creation_date</th>\n      <th>parent_post_id</th>\n      <th>parent_missing</th>\n      <th>text_id</th>\n      <th>points</th>\n      <th>discussion_stance_id</th>\n      <th>is_rebuttal</th>\n      <th>root_discussion_id</th>\n      <th>topic</th>\n      <th>title</th>\n    </tr>\n  </thead>\n  <tbody>\n    <tr>\n      <th>0</th>\n      <td>878</td>\n      <td>3557</td>\n      <td>27083</td>\n      <td>2008-05-07 23:06:11</td>\n      <td>878.0</td>\n      <td>0</td>\n      <td>513135</td>\n      <td>-3</td>\n      <td>0.0</td>\n      <td>NaN</td>\n      <td>878</td>\n      <td>9</td>\n      <td>Should guns be banned in America?</td>\n    </tr>\n    <tr>\n      <th>1</th>\n      <td>878</td>\n      <td>3563</td>\n      <td>5901</td>\n      <td>2008-05-08 01:25:25</td>\n      <td>878.0</td>\n      <td>0</td>\n      <td>513160</td>\n      <td>-8</td>\n      <td>0.0</td>\n      <td>NaN</td>\n      <td>878</td>\n      <td>9</td>\n      <td>Should guns be banned in America?</td>\n    </tr>\n    <tr>\n      <th>2</th>\n      <td>878</td>\n      <td>3623</td>\n      <td>11010</td>\n      <td>2008-05-08 15:03:14</td>\n      <td>878.0</td>\n      <td>0</td>\n      <td>513211</td>\n      <td>11</td>\n      <td>1.0</td>\n      <td>NaN</td>\n      <td>878</td>\n      <td>9</td>\n      <td>Should guns be banned in America?</td>\n    </tr>\n    <tr>\n      <th>3</th>\n      <td>878</td>\n      <td>3627</td>\n      <td>27083</td>\n      <td>2008-05-08 15:21:42</td>\n      <td>3623.0</td>\n      <td>0</td>\n      <td>513212</td>\n      <td>8</td>\n      <td>0.0</td>\n      <td>disputed</td>\n      <td>878</td>\n      <td>9</td>\n      <td>Should guns be banned in America?</td>\n    </tr>\n    <tr>\n      <th>4</th>\n      <td>878</td>\n      <td>3632</td>\n      <td>8705</td>\n      <td>2008-05-08 15:35:54</td>\n      <td>878.0</td>\n      <td>0</td>\n      <td>513276</td>\n      <td>4</td>\n      <td>1.0</td>\n      <td>NaN</td>\n      <td>878</td>\n      <td>9</td>\n      <td>Should guns be banned in America?</td>\n    </tr>\n    <tr>\n      <th>...</th>\n      <td>...</td>\n      <td>...</td>\n      <td>...</td>\n      <td>...</td>\n      <td>...</td>\n      <td>...</td>\n      <td>...</td>\n      <td>...</td>\n      <td>...</td>\n      <td>...</td>\n      <td>...</td>\n      <td>...</td>\n      <td>...</td>\n    </tr>\n    <tr>\n      <th>3046</th>\n      <td>56718</td>\n      <td>558884</td>\n      <td>1488</td>\n      <td>2014-05-09 05:30:18</td>\n      <td>56718.0</td>\n      <td>0</td>\n      <td>771300</td>\n      <td>1</td>\n      <td>0.0</td>\n      <td>NaN</td>\n      <td>56718</td>\n      <td>9</td>\n      <td>gun control</td>\n    </tr>\n    <tr>\n      <th>3047</th>\n      <td>56718</td>\n      <td>558914</td>\n      <td>2827</td>\n      <td>2014-05-09 13:40:52</td>\n      <td>558884.0</td>\n      <td>0</td>\n      <td>771301</td>\n      <td>1</td>\n      <td>1.0</td>\n      <td>disputed</td>\n      <td>56718</td>\n      <td>9</td>\n      <td>gun control</td>\n    </tr>\n    <tr>\n      <th>3048</th>\n      <td>56718</td>\n      <td>558915</td>\n      <td>2827</td>\n      <td>2014-05-09 13:41:09</td>\n      <td>56718.0</td>\n      <td>0</td>\n      <td>771304</td>\n      <td>1</td>\n      <td>1.0</td>\n      <td>NaN</td>\n      <td>56718</td>\n      <td>9</td>\n      <td>gun control</td>\n    </tr>\n    <tr>\n      <th>3049</th>\n      <td>56718</td>\n      <td>558927</td>\n      <td>2496</td>\n      <td>2014-05-09 16:26:02</td>\n      <td>558914.0</td>\n      <td>0</td>\n      <td>771302</td>\n      <td>1</td>\n      <td>1.0</td>\n      <td>supported</td>\n      <td>56718</td>\n      <td>9</td>\n      <td>gun control</td>\n    </tr>\n    <tr>\n      <th>3050</th>\n      <td>56718</td>\n      <td>558964</td>\n      <td>17093</td>\n      <td>2014-05-10 01:37:37</td>\n      <td>558884.0</td>\n      <td>0</td>\n      <td>771303</td>\n      <td>1</td>\n      <td>1.0</td>\n      <td>disputed</td>\n      <td>56718</td>\n      <td>9</td>\n      <td>gun control</td>\n    </tr>\n  </tbody>\n</table>\n<p>3051 rows × 13 columns</p>\n</div>"
     },
     "execution_count": 6,
     "metadata": {},
     "output_type": "execute_result"
    }
   ],
   "source": [
    "cd_path = f\"/Users/ronpick/workspace/zero-shot-stance/data/createdebate/iac-createdebate-subconvs.csv\"\n",
    "cddf = pd.read_csv(cd_path)\n",
    "cddf"
   ],
   "metadata": {
    "collapsed": false,
    "pycharm": {
     "name": "#%%\n"
    }
   }
  },
  {
   "cell_type": "code",
   "execution_count": 7,
   "outputs": [
    {
     "data": {
      "text/plain": "HBox(children=(FloatProgress(value=1.0, bar_style='info', layout=Layout(width='20px'), max=1.0), HTML(value=''…",
      "application/vnd.jupyter.widget-view+json": {
       "version_major": 2,
       "version_minor": 0,
       "model_id": "7c20e2fbceb94e0196bd6cf22099b6be"
      }
     },
     "metadata": {},
     "output_type": "display_data"
    },
    {
     "name": "stdout",
     "output_type": "stream",
     "text": [
      "\n"
     ]
    }
   ],
   "source": [
    "texts_path = os.path.join(base_dir, \"text.txt\")\n",
    "text_by_id = {}\n",
    "with open(texts_path, 'r') as text_f:\n",
    "    text_record = []\n",
    "    for line in tqdm(text_f):\n",
    "        line = line.strip()\n",
    "        if len(line) >= 1 and line[-1] == '\\\\':\n",
    "            text_record.append(line[:-2])\n",
    "            continue\n",
    "\n",
    "        if len(text_record) == 0:\n",
    "            text_record.append(line.strip())\n",
    "\n",
    "        try:\n",
    "            text_id, first_text_part = text_record[0].split(maxsplit=1)\n",
    "        except ValueError:\n",
    "            text_id = text_record[0]\n",
    "            first_text_part = \"\"\n",
    "\n",
    "        text_record[0] = first_text_part\n",
    "        text = \"\".join(text_record).strip()\n",
    "        text_by_id[int(text_id.strip())] = text\n",
    "        text_record = []"
   ],
   "metadata": {
    "collapsed": false,
    "pycharm": {
     "name": "#%%\n"
    }
   }
  },
  {
   "cell_type": "code",
   "execution_count": 8,
   "outputs": [
    {
     "data": {
      "text/plain": "3875"
     },
     "execution_count": 8,
     "metadata": {},
     "output_type": "execute_result"
    }
   ],
   "source": [
    "len(text_by_id)"
   ],
   "metadata": {
    "collapsed": false,
    "pycharm": {
     "name": "#%%\n"
    }
   }
  },
  {
   "cell_type": "code",
   "execution_count": 9,
   "outputs": [
    {
     "data": {
      "text/plain": "HBox(children=(FloatProgress(value=1.0, bar_style='info', layout=Layout(width='20px'), max=1.0), HTML(value=''…",
      "application/vnd.jupyter.widget-view+json": {
       "version_major": 2,
       "version_minor": 0,
       "model_id": "7562309682ba491f831929de951a8412"
      }
     },
     "metadata": {},
     "output_type": "display_data"
    },
    {
     "name": "stdout",
     "output_type": "stream",
     "text": [
      "\n"
     ]
    },
    {
     "data": {
      "text/plain": "      author                                               post  \\\n0      27083  Guns should be banned because they are not nee...   \n1      27083  Guns should be banned because they are not nee...   \n2      27083  Guns should be banned because they are not nee...   \n3      27083  Guns should be banned because they are not nee...   \n4      27083  Guns should be banned because they are not nee...   \n...      ...                                                ...   \n8080    2827  Making firearms illegal only stops law abiding...   \n8081    2827  Making firearms illegal only stops law abiding...   \n8082    2827  Making firearms illegal only stops law abiding...   \n8083    2496                Yeah, I thought that was hilarious.   \n8084   17093  Dont you believe in the right to bear arms? to...   \n\n                                            ori_topic ori_id  \\\n0                                   second ammendment   None   \n1                                             british   None   \n2                                         age america   None   \n3                                       close enemies   None   \n4                                       easier crimes   None   \n...                                               ...    ...   \n8080                                  only difference   None   \n8081  black market distribution profitsome drug users   None   \n8082                                        criminals   None   \n8083                                        hilarious   None   \n8084                                        bear arms   None   \n\n                                            new_topic  label  type_idx  \\\n0                                   second ammendment     -1         1   \n1                                             british     -1         1   \n2                                         age america     -1         1   \n3                                       close enemies     -1         1   \n4                                       easier crimes     -1         1   \n...                                               ...    ...       ...   \n8080                                  only difference     -1         1   \n8081  black market distribution profitsome drug users     -1         1   \n8082                                        criminals     -1         1   \n8083                                        hilarious     -1         1   \n8084                                        bear arms     -1         1   \n\n         new_id arc_id                                               text  \\\n0       cd-3557   None  [[\"guns\", \"banned\", \"needed\", \"domestic\", \"iss...   \n1       cd-3557   None  [[\"guns\", \"banned\", \"needed\", \"domestic\", \"iss...   \n2       cd-3557   None  [[\"guns\", \"banned\", \"needed\", \"domestic\", \"iss...   \n3       cd-3557   None  [[\"guns\", \"banned\", \"needed\", \"domestic\", \"iss...   \n4       cd-3557   None  [[\"guns\", \"banned\", \"needed\", \"domestic\", \"iss...   \n...         ...    ...                                                ...   \n8080  cd-558915   None  [[\"making\", \"firearms\", \"illegal\", \"stops\", \"l...   \n8081  cd-558915   None  [[\"making\", \"firearms\", \"illegal\", \"stops\", \"l...   \n8082  cd-558915   None  [[\"making\", \"firearms\", \"illegal\", \"stops\", \"l...   \n8083  cd-558927   None                 [[\"yeah\", \"thought\", \"hilarious\"]]   \n8084  cd-558964   None  [[\"nt\", \"believe\", \"right\", \"bear\", \"arms\"], [...   \n\n                                               pos_text  \\\n0     [[\"NNS\", \"VBN\", \"VBN\", \"JJ\", \"NN\"], [\"JJ\", \"NN...   \n1     [[\"NNS\", \"VBN\", \"VBN\", \"JJ\", \"NN\"], [\"JJ\", \"NN...   \n2     [[\"NNS\", \"VBN\", \"VBN\", \"JJ\", \"NN\"], [\"JJ\", \"NN...   \n3     [[\"NNS\", \"VBN\", \"VBN\", \"JJ\", \"NN\"], [\"JJ\", \"NN...   \n4     [[\"NNS\", \"VBN\", \"VBN\", \"JJ\", \"NN\"], [\"JJ\", \"NN...   \n...                                                 ...   \n8080  [[\"VBG\", \"NNS\", \"JJ\", \"VBZ\", \"NN\", \"VBG\", \"NNS...   \n8081  [[\"VBG\", \"NNS\", \"JJ\", \"VBZ\", \"NN\", \"VBG\", \"NNS...   \n8082  [[\"VBG\", \"NNS\", \"JJ\", \"VBZ\", \"NN\", \"VBG\", \"NNS...   \n8083                              [[\"UH\", \"VBD\", \"JJ\"]]   \n8084          [[\"RB\", \"VB\", \"NN\", \"VB\", \"NNS\"], [\"VB\"]]   \n\n                                                 text_s  \\\n0     guns banned needed domestic issue. second amme...   \n1     guns banned needed domestic issue. second amme...   \n2     guns banned needed domestic issue. second amme...   \n3     guns banned needed domestic issue. second amme...   \n4     guns banned needed domestic issue. second amme...   \n...                                                 ...   \n8080  making firearms illegal stops law abiding citi...   \n8081  making firearms illegal stops law abiding citi...   \n8082  making firearms illegal stops law abiding citi...   \n8083                            yeah thought hilarious.   \n8084               nt believe right bear arms. protect.   \n\n                                                  topic  \\\n0                                   [second ammendment]   \n1                                             [british]   \n2                                         [age america]   \n3                                       [close enemies]   \n4                                      [easier, crimes]   \n...                                                 ...   \n8080                                  [only difference]   \n8081  [black market, distribution, profitsome drug u...   \n8082                                        [criminals]   \n8083                                        [hilarious]   \n8084                                        [bear arms]   \n\n                                            topic_str  seen  contains_topic?  \n0                                   second ammendment     0                1  \n1                                             british     0                1  \n2                                         age america     0                1  \n3                                       close enemies     0                1  \n4                                       easier crimes     0                1  \n...                                               ...   ...              ...  \n8080                                  only difference     0                1  \n8081  black market distribution profitsome drug users     0                1  \n8082                                        criminals     0                1  \n8083                                        hilarious     0                1  \n8084                                        bear arms     0                1  \n\n[8085 rows x 16 columns]",
      "text/html": "<div>\n<style scoped>\n    .dataframe tbody tr th:only-of-type {\n        vertical-align: middle;\n    }\n\n    .dataframe tbody tr th {\n        vertical-align: top;\n    }\n\n    .dataframe thead th {\n        text-align: right;\n    }\n</style>\n<table border=\"1\" class=\"dataframe\">\n  <thead>\n    <tr style=\"text-align: right;\">\n      <th></th>\n      <th>author</th>\n      <th>post</th>\n      <th>ori_topic</th>\n      <th>ori_id</th>\n      <th>new_topic</th>\n      <th>label</th>\n      <th>type_idx</th>\n      <th>new_id</th>\n      <th>arc_id</th>\n      <th>text</th>\n      <th>pos_text</th>\n      <th>text_s</th>\n      <th>topic</th>\n      <th>topic_str</th>\n      <th>seen</th>\n      <th>contains_topic?</th>\n    </tr>\n  </thead>\n  <tbody>\n    <tr>\n      <th>0</th>\n      <td>27083</td>\n      <td>Guns should be banned because they are not nee...</td>\n      <td>second ammendment</td>\n      <td>None</td>\n      <td>second ammendment</td>\n      <td>-1</td>\n      <td>1</td>\n      <td>cd-3557</td>\n      <td>None</td>\n      <td>[[\"guns\", \"banned\", \"needed\", \"domestic\", \"iss...</td>\n      <td>[[\"NNS\", \"VBN\", \"VBN\", \"JJ\", \"NN\"], [\"JJ\", \"NN...</td>\n      <td>guns banned needed domestic issue. second amme...</td>\n      <td>[second ammendment]</td>\n      <td>second ammendment</td>\n      <td>0</td>\n      <td>1</td>\n    </tr>\n    <tr>\n      <th>1</th>\n      <td>27083</td>\n      <td>Guns should be banned because they are not nee...</td>\n      <td>british</td>\n      <td>None</td>\n      <td>british</td>\n      <td>-1</td>\n      <td>1</td>\n      <td>cd-3557</td>\n      <td>None</td>\n      <td>[[\"guns\", \"banned\", \"needed\", \"domestic\", \"iss...</td>\n      <td>[[\"NNS\", \"VBN\", \"VBN\", \"JJ\", \"NN\"], [\"JJ\", \"NN...</td>\n      <td>guns banned needed domestic issue. second amme...</td>\n      <td>[british]</td>\n      <td>british</td>\n      <td>0</td>\n      <td>1</td>\n    </tr>\n    <tr>\n      <th>2</th>\n      <td>27083</td>\n      <td>Guns should be banned because they are not nee...</td>\n      <td>age america</td>\n      <td>None</td>\n      <td>age america</td>\n      <td>-1</td>\n      <td>1</td>\n      <td>cd-3557</td>\n      <td>None</td>\n      <td>[[\"guns\", \"banned\", \"needed\", \"domestic\", \"iss...</td>\n      <td>[[\"NNS\", \"VBN\", \"VBN\", \"JJ\", \"NN\"], [\"JJ\", \"NN...</td>\n      <td>guns banned needed domestic issue. second amme...</td>\n      <td>[age america]</td>\n      <td>age america</td>\n      <td>0</td>\n      <td>1</td>\n    </tr>\n    <tr>\n      <th>3</th>\n      <td>27083</td>\n      <td>Guns should be banned because they are not nee...</td>\n      <td>close enemies</td>\n      <td>None</td>\n      <td>close enemies</td>\n      <td>-1</td>\n      <td>1</td>\n      <td>cd-3557</td>\n      <td>None</td>\n      <td>[[\"guns\", \"banned\", \"needed\", \"domestic\", \"iss...</td>\n      <td>[[\"NNS\", \"VBN\", \"VBN\", \"JJ\", \"NN\"], [\"JJ\", \"NN...</td>\n      <td>guns banned needed domestic issue. second amme...</td>\n      <td>[close enemies]</td>\n      <td>close enemies</td>\n      <td>0</td>\n      <td>1</td>\n    </tr>\n    <tr>\n      <th>4</th>\n      <td>27083</td>\n      <td>Guns should be banned because they are not nee...</td>\n      <td>easier crimes</td>\n      <td>None</td>\n      <td>easier crimes</td>\n      <td>-1</td>\n      <td>1</td>\n      <td>cd-3557</td>\n      <td>None</td>\n      <td>[[\"guns\", \"banned\", \"needed\", \"domestic\", \"iss...</td>\n      <td>[[\"NNS\", \"VBN\", \"VBN\", \"JJ\", \"NN\"], [\"JJ\", \"NN...</td>\n      <td>guns banned needed domestic issue. second amme...</td>\n      <td>[easier, crimes]</td>\n      <td>easier crimes</td>\n      <td>0</td>\n      <td>1</td>\n    </tr>\n    <tr>\n      <th>...</th>\n      <td>...</td>\n      <td>...</td>\n      <td>...</td>\n      <td>...</td>\n      <td>...</td>\n      <td>...</td>\n      <td>...</td>\n      <td>...</td>\n      <td>...</td>\n      <td>...</td>\n      <td>...</td>\n      <td>...</td>\n      <td>...</td>\n      <td>...</td>\n      <td>...</td>\n      <td>...</td>\n    </tr>\n    <tr>\n      <th>8080</th>\n      <td>2827</td>\n      <td>Making firearms illegal only stops law abiding...</td>\n      <td>only difference</td>\n      <td>None</td>\n      <td>only difference</td>\n      <td>-1</td>\n      <td>1</td>\n      <td>cd-558915</td>\n      <td>None</td>\n      <td>[[\"making\", \"firearms\", \"illegal\", \"stops\", \"l...</td>\n      <td>[[\"VBG\", \"NNS\", \"JJ\", \"VBZ\", \"NN\", \"VBG\", \"NNS...</td>\n      <td>making firearms illegal stops law abiding citi...</td>\n      <td>[only difference]</td>\n      <td>only difference</td>\n      <td>0</td>\n      <td>1</td>\n    </tr>\n    <tr>\n      <th>8081</th>\n      <td>2827</td>\n      <td>Making firearms illegal only stops law abiding...</td>\n      <td>black market distribution profitsome drug users</td>\n      <td>None</td>\n      <td>black market distribution profitsome drug users</td>\n      <td>-1</td>\n      <td>1</td>\n      <td>cd-558915</td>\n      <td>None</td>\n      <td>[[\"making\", \"firearms\", \"illegal\", \"stops\", \"l...</td>\n      <td>[[\"VBG\", \"NNS\", \"JJ\", \"VBZ\", \"NN\", \"VBG\", \"NNS...</td>\n      <td>making firearms illegal stops law abiding citi...</td>\n      <td>[black market, distribution, profitsome drug u...</td>\n      <td>black market distribution profitsome drug users</td>\n      <td>0</td>\n      <td>1</td>\n    </tr>\n    <tr>\n      <th>8082</th>\n      <td>2827</td>\n      <td>Making firearms illegal only stops law abiding...</td>\n      <td>criminals</td>\n      <td>None</td>\n      <td>criminals</td>\n      <td>-1</td>\n      <td>1</td>\n      <td>cd-558915</td>\n      <td>None</td>\n      <td>[[\"making\", \"firearms\", \"illegal\", \"stops\", \"l...</td>\n      <td>[[\"VBG\", \"NNS\", \"JJ\", \"VBZ\", \"NN\", \"VBG\", \"NNS...</td>\n      <td>making firearms illegal stops law abiding citi...</td>\n      <td>[criminals]</td>\n      <td>criminals</td>\n      <td>0</td>\n      <td>1</td>\n    </tr>\n    <tr>\n      <th>8083</th>\n      <td>2496</td>\n      <td>Yeah, I thought that was hilarious.</td>\n      <td>hilarious</td>\n      <td>None</td>\n      <td>hilarious</td>\n      <td>-1</td>\n      <td>1</td>\n      <td>cd-558927</td>\n      <td>None</td>\n      <td>[[\"yeah\", \"thought\", \"hilarious\"]]</td>\n      <td>[[\"UH\", \"VBD\", \"JJ\"]]</td>\n      <td>yeah thought hilarious.</td>\n      <td>[hilarious]</td>\n      <td>hilarious</td>\n      <td>0</td>\n      <td>1</td>\n    </tr>\n    <tr>\n      <th>8084</th>\n      <td>17093</td>\n      <td>Dont you believe in the right to bear arms? to...</td>\n      <td>bear arms</td>\n      <td>None</td>\n      <td>bear arms</td>\n      <td>-1</td>\n      <td>1</td>\n      <td>cd-558964</td>\n      <td>None</td>\n      <td>[[\"nt\", \"believe\", \"right\", \"bear\", \"arms\"], [...</td>\n      <td>[[\"RB\", \"VB\", \"NN\", \"VB\", \"NNS\"], [\"VB\"]]</td>\n      <td>nt believe right bear arms. protect.</td>\n      <td>[bear arms]</td>\n      <td>bear arms</td>\n      <td>0</td>\n      <td>1</td>\n    </tr>\n  </tbody>\n</table>\n<p>8085 rows × 16 columns</p>\n</div>"
     },
     "execution_count": 9,
     "metadata": {},
     "output_type": "execute_result"
    }
   ],
   "source": [
    "import json\n",
    "records = []\n",
    "for index, record in tqdm(cddf.iterrows()):\n",
    "    text = text_by_id[record[\"text_id\"]]\n",
    "    parsed_doc = parse_text(text)\n",
    "    tokens, pos = get_tokens_with_stopwords(parsed_doc)\n",
    "    tokens_str = json.dumps(tokens)\n",
    "    pos_str = json.dumps(pos)\n",
    "    text_s = \" \".join(\" \".join(sent) + \".\" for sent in tokens)\n",
    "    topics = get_relevant_nps_from_text(parsed_doc)\n",
    "    for topic in topics:\n",
    "        topic_str = \" \".join(topic)\n",
    "        vast_record = {\n",
    "            \"author\": record[\"author_id\"],\n",
    "            \"post\": text,\n",
    "            \"ori_topic\": topic_str,\n",
    "            \"ori_id\": None,\n",
    "            \"new_topic\": topic_str,\n",
    "            \"label\": -1,\n",
    "            \"type_idx\": 1,\n",
    "            \"new_id\": f\"cd-{record['post_id']}\",\n",
    "            \"arc_id\": None,\n",
    "            \"text\": tokens_str,\n",
    "            \"pos_text\": pos_str,\n",
    "            \"text_s\": text_s,\n",
    "            \"topic\": json.dumps(topic),\n",
    "            \"topic_str\": topic_str,\n",
    "            \"seen?\": 0,\n",
    "            \"contains_topic?\": 1\n",
    "        }\n",
    "        records.append(vast_record)\n",
    "\n",
    "cdvast_df = pd.DataFrame.from_records(records)\n",
    "cdvast_df"
   ],
   "metadata": {
    "collapsed": false,
    "pycharm": {
     "name": "#%%\n"
    }
   }
  },
  {
   "cell_type": "code",
   "execution_count": 14,
   "outputs": [],
   "source": [
    "cdvast_df.insert(14, \"seen?\", cdvast_df[\"seen\"])\n",
    "del cdvast_df[\"seen\"]"
   ],
   "metadata": {
    "collapsed": false,
    "pycharm": {
     "name": "#%%\n"
    }
   }
  },
  {
   "cell_type": "code",
   "execution_count": 16,
   "outputs": [],
   "source": [
    "cdvast_df.to_csv(\"/Users/ronpick/workspace/zero-shot-stance/data/createdebate/cdvast.csv\")\n"
   ],
   "metadata": {
    "collapsed": false,
    "pycharm": {
     "name": "#%%\n"
    }
   }
  },
  {
   "cell_type": "code",
   "execution_count": 15,
   "outputs": [
    {
     "data": {
      "text/plain": "      author                                               post  \\\n0      27083  Guns should be banned because they are not nee...   \n1      27083  Guns should be banned because they are not nee...   \n2      27083  Guns should be banned because they are not nee...   \n3      27083  Guns should be banned because they are not nee...   \n4      27083  Guns should be banned because they are not nee...   \n...      ...                                                ...   \n8080    2827  Making firearms illegal only stops law abiding...   \n8081    2827  Making firearms illegal only stops law abiding...   \n8082    2827  Making firearms illegal only stops law abiding...   \n8083    2496                Yeah, I thought that was hilarious.   \n8084   17093  Dont you believe in the right to bear arms? to...   \n\n                                            ori_topic ori_id  \\\n0                                   second ammendment   None   \n1                                             british   None   \n2                                         age america   None   \n3                                       close enemies   None   \n4                                       easier crimes   None   \n...                                               ...    ...   \n8080                                  only difference   None   \n8081  black market distribution profitsome drug users   None   \n8082                                        criminals   None   \n8083                                        hilarious   None   \n8084                                        bear arms   None   \n\n                                            new_topic  label  type_idx  \\\n0                                   second ammendment     -1         1   \n1                                             british     -1         1   \n2                                         age america     -1         1   \n3                                       close enemies     -1         1   \n4                                       easier crimes     -1         1   \n...                                               ...    ...       ...   \n8080                                  only difference     -1         1   \n8081  black market distribution profitsome drug users     -1         1   \n8082                                        criminals     -1         1   \n8083                                        hilarious     -1         1   \n8084                                        bear arms     -1         1   \n\n         new_id arc_id                                               text  \\\n0       cd-3557   None  [[\"guns\", \"banned\", \"needed\", \"domestic\", \"iss...   \n1       cd-3557   None  [[\"guns\", \"banned\", \"needed\", \"domestic\", \"iss...   \n2       cd-3557   None  [[\"guns\", \"banned\", \"needed\", \"domestic\", \"iss...   \n3       cd-3557   None  [[\"guns\", \"banned\", \"needed\", \"domestic\", \"iss...   \n4       cd-3557   None  [[\"guns\", \"banned\", \"needed\", \"domestic\", \"iss...   \n...         ...    ...                                                ...   \n8080  cd-558915   None  [[\"making\", \"firearms\", \"illegal\", \"stops\", \"l...   \n8081  cd-558915   None  [[\"making\", \"firearms\", \"illegal\", \"stops\", \"l...   \n8082  cd-558915   None  [[\"making\", \"firearms\", \"illegal\", \"stops\", \"l...   \n8083  cd-558927   None                 [[\"yeah\", \"thought\", \"hilarious\"]]   \n8084  cd-558964   None  [[\"nt\", \"believe\", \"right\", \"bear\", \"arms\"], [...   \n\n                                               pos_text  \\\n0     [[\"NNS\", \"VBN\", \"VBN\", \"JJ\", \"NN\"], [\"JJ\", \"NN...   \n1     [[\"NNS\", \"VBN\", \"VBN\", \"JJ\", \"NN\"], [\"JJ\", \"NN...   \n2     [[\"NNS\", \"VBN\", \"VBN\", \"JJ\", \"NN\"], [\"JJ\", \"NN...   \n3     [[\"NNS\", \"VBN\", \"VBN\", \"JJ\", \"NN\"], [\"JJ\", \"NN...   \n4     [[\"NNS\", \"VBN\", \"VBN\", \"JJ\", \"NN\"], [\"JJ\", \"NN...   \n...                                                 ...   \n8080  [[\"VBG\", \"NNS\", \"JJ\", \"VBZ\", \"NN\", \"VBG\", \"NNS...   \n8081  [[\"VBG\", \"NNS\", \"JJ\", \"VBZ\", \"NN\", \"VBG\", \"NNS...   \n8082  [[\"VBG\", \"NNS\", \"JJ\", \"VBZ\", \"NN\", \"VBG\", \"NNS...   \n8083                              [[\"UH\", \"VBD\", \"JJ\"]]   \n8084          [[\"RB\", \"VB\", \"NN\", \"VB\", \"NNS\"], [\"VB\"]]   \n\n                                                 text_s  \\\n0     guns banned needed domestic issue. second amme...   \n1     guns banned needed domestic issue. second amme...   \n2     guns banned needed domestic issue. second amme...   \n3     guns banned needed domestic issue. second amme...   \n4     guns banned needed domestic issue. second amme...   \n...                                                 ...   \n8080  making firearms illegal stops law abiding citi...   \n8081  making firearms illegal stops law abiding citi...   \n8082  making firearms illegal stops law abiding citi...   \n8083                            yeah thought hilarious.   \n8084               nt believe right bear arms. protect.   \n\n                                                  topic  \\\n0                                 [\"second ammendment\"]   \n1                                           [\"british\"]   \n2                                       [\"age america\"]   \n3                                     [\"close enemies\"]   \n4                                  [\"easier\", \"crimes\"]   \n...                                                 ...   \n8080                                [\"only difference\"]   \n8081  [\"black market\", \"distribution\", \"profitsome d...   \n8082                                      [\"criminals\"]   \n8083                                      [\"hilarious\"]   \n8084                                      [\"bear arms\"]   \n\n                                            topic_str  seen?  contains_topic?  \n0                                   second ammendment      0                1  \n1                                             british      0                1  \n2                                         age america      0                1  \n3                                       close enemies      0                1  \n4                                       easier crimes      0                1  \n...                                               ...    ...              ...  \n8080                                  only difference      0                1  \n8081  black market distribution profitsome drug users      0                1  \n8082                                        criminals      0                1  \n8083                                        hilarious      0                1  \n8084                                        bear arms      0                1  \n\n[8085 rows x 16 columns]",
      "text/html": "<div>\n<style scoped>\n    .dataframe tbody tr th:only-of-type {\n        vertical-align: middle;\n    }\n\n    .dataframe tbody tr th {\n        vertical-align: top;\n    }\n\n    .dataframe thead th {\n        text-align: right;\n    }\n</style>\n<table border=\"1\" class=\"dataframe\">\n  <thead>\n    <tr style=\"text-align: right;\">\n      <th></th>\n      <th>author</th>\n      <th>post</th>\n      <th>ori_topic</th>\n      <th>ori_id</th>\n      <th>new_topic</th>\n      <th>label</th>\n      <th>type_idx</th>\n      <th>new_id</th>\n      <th>arc_id</th>\n      <th>text</th>\n      <th>pos_text</th>\n      <th>text_s</th>\n      <th>topic</th>\n      <th>topic_str</th>\n      <th>seen?</th>\n      <th>contains_topic?</th>\n    </tr>\n  </thead>\n  <tbody>\n    <tr>\n      <th>0</th>\n      <td>27083</td>\n      <td>Guns should be banned because they are not nee...</td>\n      <td>second ammendment</td>\n      <td>None</td>\n      <td>second ammendment</td>\n      <td>-1</td>\n      <td>1</td>\n      <td>cd-3557</td>\n      <td>None</td>\n      <td>[[\"guns\", \"banned\", \"needed\", \"domestic\", \"iss...</td>\n      <td>[[\"NNS\", \"VBN\", \"VBN\", \"JJ\", \"NN\"], [\"JJ\", \"NN...</td>\n      <td>guns banned needed domestic issue. second amme...</td>\n      <td>[\"second ammendment\"]</td>\n      <td>second ammendment</td>\n      <td>0</td>\n      <td>1</td>\n    </tr>\n    <tr>\n      <th>1</th>\n      <td>27083</td>\n      <td>Guns should be banned because they are not nee...</td>\n      <td>british</td>\n      <td>None</td>\n      <td>british</td>\n      <td>-1</td>\n      <td>1</td>\n      <td>cd-3557</td>\n      <td>None</td>\n      <td>[[\"guns\", \"banned\", \"needed\", \"domestic\", \"iss...</td>\n      <td>[[\"NNS\", \"VBN\", \"VBN\", \"JJ\", \"NN\"], [\"JJ\", \"NN...</td>\n      <td>guns banned needed domestic issue. second amme...</td>\n      <td>[\"british\"]</td>\n      <td>british</td>\n      <td>0</td>\n      <td>1</td>\n    </tr>\n    <tr>\n      <th>2</th>\n      <td>27083</td>\n      <td>Guns should be banned because they are not nee...</td>\n      <td>age america</td>\n      <td>None</td>\n      <td>age america</td>\n      <td>-1</td>\n      <td>1</td>\n      <td>cd-3557</td>\n      <td>None</td>\n      <td>[[\"guns\", \"banned\", \"needed\", \"domestic\", \"iss...</td>\n      <td>[[\"NNS\", \"VBN\", \"VBN\", \"JJ\", \"NN\"], [\"JJ\", \"NN...</td>\n      <td>guns banned needed domestic issue. second amme...</td>\n      <td>[\"age america\"]</td>\n      <td>age america</td>\n      <td>0</td>\n      <td>1</td>\n    </tr>\n    <tr>\n      <th>3</th>\n      <td>27083</td>\n      <td>Guns should be banned because they are not nee...</td>\n      <td>close enemies</td>\n      <td>None</td>\n      <td>close enemies</td>\n      <td>-1</td>\n      <td>1</td>\n      <td>cd-3557</td>\n      <td>None</td>\n      <td>[[\"guns\", \"banned\", \"needed\", \"domestic\", \"iss...</td>\n      <td>[[\"NNS\", \"VBN\", \"VBN\", \"JJ\", \"NN\"], [\"JJ\", \"NN...</td>\n      <td>guns banned needed domestic issue. second amme...</td>\n      <td>[\"close enemies\"]</td>\n      <td>close enemies</td>\n      <td>0</td>\n      <td>1</td>\n    </tr>\n    <tr>\n      <th>4</th>\n      <td>27083</td>\n      <td>Guns should be banned because they are not nee...</td>\n      <td>easier crimes</td>\n      <td>None</td>\n      <td>easier crimes</td>\n      <td>-1</td>\n      <td>1</td>\n      <td>cd-3557</td>\n      <td>None</td>\n      <td>[[\"guns\", \"banned\", \"needed\", \"domestic\", \"iss...</td>\n      <td>[[\"NNS\", \"VBN\", \"VBN\", \"JJ\", \"NN\"], [\"JJ\", \"NN...</td>\n      <td>guns banned needed domestic issue. second amme...</td>\n      <td>[\"easier\", \"crimes\"]</td>\n      <td>easier crimes</td>\n      <td>0</td>\n      <td>1</td>\n    </tr>\n    <tr>\n      <th>...</th>\n      <td>...</td>\n      <td>...</td>\n      <td>...</td>\n      <td>...</td>\n      <td>...</td>\n      <td>...</td>\n      <td>...</td>\n      <td>...</td>\n      <td>...</td>\n      <td>...</td>\n      <td>...</td>\n      <td>...</td>\n      <td>...</td>\n      <td>...</td>\n      <td>...</td>\n      <td>...</td>\n    </tr>\n    <tr>\n      <th>8080</th>\n      <td>2827</td>\n      <td>Making firearms illegal only stops law abiding...</td>\n      <td>only difference</td>\n      <td>None</td>\n      <td>only difference</td>\n      <td>-1</td>\n      <td>1</td>\n      <td>cd-558915</td>\n      <td>None</td>\n      <td>[[\"making\", \"firearms\", \"illegal\", \"stops\", \"l...</td>\n      <td>[[\"VBG\", \"NNS\", \"JJ\", \"VBZ\", \"NN\", \"VBG\", \"NNS...</td>\n      <td>making firearms illegal stops law abiding citi...</td>\n      <td>[\"only difference\"]</td>\n      <td>only difference</td>\n      <td>0</td>\n      <td>1</td>\n    </tr>\n    <tr>\n      <th>8081</th>\n      <td>2827</td>\n      <td>Making firearms illegal only stops law abiding...</td>\n      <td>black market distribution profitsome drug users</td>\n      <td>None</td>\n      <td>black market distribution profitsome drug users</td>\n      <td>-1</td>\n      <td>1</td>\n      <td>cd-558915</td>\n      <td>None</td>\n      <td>[[\"making\", \"firearms\", \"illegal\", \"stops\", \"l...</td>\n      <td>[[\"VBG\", \"NNS\", \"JJ\", \"VBZ\", \"NN\", \"VBG\", \"NNS...</td>\n      <td>making firearms illegal stops law abiding citi...</td>\n      <td>[\"black market\", \"distribution\", \"profitsome d...</td>\n      <td>black market distribution profitsome drug users</td>\n      <td>0</td>\n      <td>1</td>\n    </tr>\n    <tr>\n      <th>8082</th>\n      <td>2827</td>\n      <td>Making firearms illegal only stops law abiding...</td>\n      <td>criminals</td>\n      <td>None</td>\n      <td>criminals</td>\n      <td>-1</td>\n      <td>1</td>\n      <td>cd-558915</td>\n      <td>None</td>\n      <td>[[\"making\", \"firearms\", \"illegal\", \"stops\", \"l...</td>\n      <td>[[\"VBG\", \"NNS\", \"JJ\", \"VBZ\", \"NN\", \"VBG\", \"NNS...</td>\n      <td>making firearms illegal stops law abiding citi...</td>\n      <td>[\"criminals\"]</td>\n      <td>criminals</td>\n      <td>0</td>\n      <td>1</td>\n    </tr>\n    <tr>\n      <th>8083</th>\n      <td>2496</td>\n      <td>Yeah, I thought that was hilarious.</td>\n      <td>hilarious</td>\n      <td>None</td>\n      <td>hilarious</td>\n      <td>-1</td>\n      <td>1</td>\n      <td>cd-558927</td>\n      <td>None</td>\n      <td>[[\"yeah\", \"thought\", \"hilarious\"]]</td>\n      <td>[[\"UH\", \"VBD\", \"JJ\"]]</td>\n      <td>yeah thought hilarious.</td>\n      <td>[\"hilarious\"]</td>\n      <td>hilarious</td>\n      <td>0</td>\n      <td>1</td>\n    </tr>\n    <tr>\n      <th>8084</th>\n      <td>17093</td>\n      <td>Dont you believe in the right to bear arms? to...</td>\n      <td>bear arms</td>\n      <td>None</td>\n      <td>bear arms</td>\n      <td>-1</td>\n      <td>1</td>\n      <td>cd-558964</td>\n      <td>None</td>\n      <td>[[\"nt\", \"believe\", \"right\", \"bear\", \"arms\"], [...</td>\n      <td>[[\"RB\", \"VB\", \"NN\", \"VB\", \"NNS\"], [\"VB\"]]</td>\n      <td>nt believe right bear arms. protect.</td>\n      <td>[\"bear arms\"]</td>\n      <td>bear arms</td>\n      <td>0</td>\n      <td>1</td>\n    </tr>\n  </tbody>\n</table>\n<p>8085 rows × 16 columns</p>\n</div>"
     },
     "execution_count": 15,
     "metadata": {},
     "output_type": "execute_result"
    }
   ],
   "source": [
    "cdvast_df"
   ],
   "metadata": {
    "collapsed": false,
    "pycharm": {
     "name": "#%%\n"
    }
   }
  },
  {
   "cell_type": "code",
   "execution_count": null,
   "outputs": [],
   "source": [],
   "metadata": {
    "collapsed": false,
    "pycharm": {
     "name": "#%%\n"
    }
   }
  }
 ],
 "metadata": {
  "kernelspec": {
   "display_name": "Python 3",
   "language": "python",
   "name": "python3"
  },
  "language_info": {
   "codemirror_mode": {
    "name": "ipython",
    "version": 2
   },
   "file_extension": ".py",
   "mimetype": "text/x-python",
   "name": "python",
   "nbconvert_exporter": "python",
   "pygments_lexer": "ipython2",
   "version": "2.7.6"
  }
 },
 "nbformat": 4,
 "nbformat_minor": 0
}